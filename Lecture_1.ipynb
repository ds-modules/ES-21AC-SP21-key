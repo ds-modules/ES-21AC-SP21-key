{
 "cells": [
  {
   "cell_type": "markdown",
   "metadata": {
    "tags": [
     "ignore"
    ]
   },
   "source": [
    "# <font color =#d14d0f>[ES-21AC] State Prisons and County Jails</font>\n",
    "### Part One\n",
    "\n",
    "***\n",
    "\n",
    "### Professor: Victoria Robinson \n",
    "### Data Science Fellow: Phillip Pierini\n",
    "\n",
    "The goal of this project is for students to understand that they can do social work using data. This notebook explores the incarceration trends and impacts of prison realignment in California.\n",
    "\n",
    "*Estimated Time: 60 minutes*\n",
    "\n",
    "---\n",
    "\n",
    "### Table of Contents\n",
    "\n",
    "[INTRO TO PYTHON AND JUPYTERNOTEBOOK](#sectionpy)<br>\n",
    "1. [JUPYTER NOTEBOOK](#subsectionjup)<br>\n",
    "2. [PYTHON](#subsectionpy)<br>\n",
    "\n",
    "\n",
    "[THE DATA](#sectiondata)<br>\n",
    "\n",
    "\n",
    "[CONTEXT](#sectioncontext)<br>\n",
    "\n",
    "\n",
    "[PRISONS](#section1)<br>\n",
    "1. [DATA](#subsection1)<br> \n",
    "2. [DATA ANALYSIS](#subsection2)<br>\n",
    "3. [GENERAL: DESIGNED & STAFFED CAPACITY](#subsection3)<br>\n",
    "4. [GENDER DIVISION](#subsection4)<br>"
   ]
  },
  {
   "cell_type": "markdown",
   "metadata": {
    "tags": [
     "ignore"
    ]
   },
   "source": [
    "## <font color =#d14d0f>Intro to Python and Jupyter Notebook</font> <a id='sectionpy'></a>"
   ]
  },
  {
   "cell_type": "markdown",
   "metadata": {
    "tags": [
     "ignore"
    ]
   },
   "source": [
    "### **Jupyter Notebooks** <a id='subsectionjup'></a>\n",
    "Welcome to a Jupyter Notebook! **Notebooks** are documents that can contain text, code, visualizations, and more!\n",
    "\n",
    "A notebook is composed of rectangular sections called **cells**. There are 2 kinds of cells: markdown and code. A **markdown cell**, such as this one, contains text. A **code cell** contains code in Python, a programming language that we will be using for the remainder of this module. You can select any cell by clicking it once.\n",
    "\n",
    "To run a code cell once it's been selected, \n",
    "- Press Shift + Enter, or\n",
    "- Click the Run button in the toolbar at the top of the screen. \n",
    "\n",
    "If a code cell is running, you will see an asterisk (\\*) appear in the square brackets to the left of the cell. Once the cell has finished running, a number will replace the asterisk and any output from the code will appear under the cell.\n",
    "\n",
    "Let's try it! <font color = #d14d0f>**Run the cell below to see the output.**</font> Feel free to play around with the code -- try changing 'World' to your name."
   ]
  },
  {
   "cell_type": "code",
   "execution_count": 1,
   "metadata": {
    "tags": [
     "ignore"
    ]
   },
   "outputs": [
    {
     "name": "stdout",
     "output_type": "stream",
     "text": [
      "Hello World!\n"
     ]
    }
   ],
   "source": [
    "# Run the cell by using one of the methods we mentioned above!\n",
    "\n",
    "print(\"Hello World!\")"
   ]
  },
  {
   "cell_type": "markdown",
   "metadata": {
    "tags": [
     "ignore"
    ]
   },
   "source": [
    "You'll notice that many code cells contain lines of blue text that start with a `#`. These are *comments*. Comments often contain helpful information about what the code does or what you are supposed to do in the cell. The leading `#` tells the computer to ignore whatever text follows it."
   ]
  },
  {
   "cell_type": "markdown",
   "metadata": {
    "tags": [
     "ignore"
    ]
   },
   "source": [
    "#### Editing\n",
    "\n",
    "You can change the text in markdown cell by clicking it twice. Text in markdown cells is written in [**Markdown**](https://daringfireball.net/projects/markdown/), a formatting language for plain text, so you may see some funky symbols should you try and edit a markdown cell we've already written. Once you've made changes to a markdown cell, you can exit editing mode by running the cell the same way you'd run a code cell.\n",
    "\n",
    "<font color = #d14d0f>**Try double-clicking on this text to see what some Markdown formatting looks like.**</font>"
   ]
  },
  {
   "cell_type": "markdown",
   "metadata": {
    "tags": [
     "ignore"
    ]
   },
   "source": [
    "#### Adding and Deleting Cells\n",
    "\n",
    "Another feature of Jupyter Notebooks is the ability to add and delete cells, whether that be code or markdown. You can add cells by pressing the plus sign icon in the menu bar. This will add (by default) a code cell immediately below your current highlighted cell.\n",
    "\n",
    "To convert a cell to markdown, you can press 'Cell' in the menu bar, select 'Cell Type', and finally pick the desired option. This works the other way around too!\n",
    "\n",
    "To delete a cell, simply press the scissors icon in the menu bar. A common fear is deleting a cell that you needed -- but don't worry! This can be undone using 'Edit' > 'Undo Delete Cells'! If you accidentally delete a cells content, you can use `Ctrl` + `Z`."
   ]
  },
  {
   "cell_type": "markdown",
   "metadata": {
    "tags": [
     "ignore"
    ]
   },
   "source": [
    "#### Saving and Loading\n",
    "\n",
    "Your notebook will automatically save your text and code edits, as well as any graphs you generate or any calculations you make. However, you can also manually save the notebook in its current state by using `Ctrl` + `S`, clicking the floppy disk icon in the toolbar at the top of the page, or by going to the 'File' menu and selecting 'Save and Checkpoint'.\n",
    "\n",
    "Next time you open your notebook, it will look the same as when you last saved it!\n",
    "\n",
    "**Note:** When you load a notebook you will see all the outputs from your last saved session (such as graphs, computations, etc.) but you won't be able to use any of the variables you assigned in your code without running it again.\n",
    "\n",
    "An easy way to \"catch up\" to the last work you did is to highlight the cell you left off on and click \"Run all above\" under the Cell tab in the menu at the top of the screen."
   ]
  },
  {
   "cell_type": "markdown",
   "metadata": {
    "tags": [
     "ignore"
    ]
   },
   "source": [
    "#### Getting Started\n",
    "\n",
    "Now that we've covered our bases with regards to the platform we'll be working on for this assignment, let's load some **libraries** we need to explore the data we are working with. Python **libraries** are extra packages we can load to help use tools that are not otherwise available. These can include visualization libraries such as `matplotlib` or numerical tools like `numpy`. You can see how we load these libraries below:"
   ]
  },
  {
   "cell_type": "code",
   "execution_count": 2,
   "metadata": {
    "tags": [
     "ignore"
    ]
   },
   "outputs": [],
   "source": [
    "from datascience import * # This loads tools from the datascience library\n",
    "import numpy as np # Loads numerical methods\n",
    "\n",
    "from otter import Notebook # This will allow us to export your responses as a pdf\n",
    "\n",
    "import matplotlib  # This loads some visualization tools\n",
    "%matplotlib inline\n",
    "import matplotlib.pyplot as plt\n",
    "plt.style.use('fivethirtyeight') # This selects a certain 'style' for our graphs\n",
    "\n",
    "import ipywidgets as widgets # Loads a widgets library that will allow for interactive learning"
   ]
  },
  {
   "cell_type": "markdown",
   "metadata": {
    "tags": [
     "ignore"
    ]
   },
   "source": [
    "Now that we've loaded some relevant libraries, let's go over some Python basics.\n",
    "\n",
    "### **Python Basics** <a id='subsectionpy'></a>"
   ]
  },
  {
   "cell_type": "markdown",
   "metadata": {
    "tags": [
     "ignore"
    ]
   },
   "source": [
    "**Python** is a programming language -- a way for us to communicate with the computer and give it instructions.\n",
    "\n",
    "Just like any language, Python has a set vocabulary made up of words it can understand, and a syntax which provides the rules for how to structure our commands and give instructions.\n",
    "\n",
    "#### Errors\n",
    "Errors in programming are common and totally okay! Don't be afraid when you see an error because more likely than not the solution lies in the error code itself! Let's see what an error looks like. <font color = #d14d0f>**Run the cell below to see the output.**</font>"
   ]
  },
  {
   "cell_type": "code",
   "execution_count": 3,
   "metadata": {
    "tags": [
     "ignore"
    ]
   },
   "outputs": [
    {
     "ename": "SyntaxError",
     "evalue": "unexpected EOF while parsing (<ipython-input-3-f87cde92617c>, line 1)",
     "output_type": "error",
     "traceback": [
      "\u001b[0;36m  File \u001b[0;32m\"<ipython-input-3-f87cde92617c>\"\u001b[0;36m, line \u001b[0;32m1\u001b[0m\n\u001b[0;31m    print('This line is missing something.'\u001b[0m\n\u001b[0m                                           ^\u001b[0m\n\u001b[0;31mSyntaxError\u001b[0m\u001b[0;31m:\u001b[0m unexpected EOF while parsing\n"
     ]
    }
   ],
   "source": [
    "print('This line is missing something.'"
   ]
  },
  {
   "cell_type": "markdown",
   "metadata": {
    "tags": [
     "ignore"
    ]
   },
   "source": [
    "The last line of the error message in the output attempts to tell you what went wrong. You should see a message saying \"SyntaxError: unexpected EOF while parsing.\" This just means it expected a closing to your code in this instance. <font color = #d14d0f>**Try adding a parentheses to end the statement and watch the error message disappear!**</font>"
   ]
  },
  {
   "cell_type": "markdown",
   "metadata": {
    "tags": [
     "ignore"
    ]
   },
   "source": [
    "#### Variables\n",
    "\n",
    "As we mentioned before, in this Jupyter Notebook you will be assigning data or figures to **variables**. You can even assign graph output or functions to variables, but that is out of scope for this assignment so don't worry about it! Variables are stored in a computer's memory and you can use it over and over again in future calculations!\n",
    "\n",
    "Sometimes, instead of trying to work with raw information all the time in a long calculation like `4 - 2 * (1 + 6 / 3)` you will want to store it as a **variable** for easy access in future calculations. <font color = #d14d0f>**Check out how we can use variables to our advantage below!**</font>"
   ]
  },
  {
   "cell_type": "code",
   "execution_count": 4,
   "metadata": {},
   "outputs": [
    {
     "data": {
      "text/plain": [
       "-2.0"
      ]
     },
     "execution_count": 4,
     "metadata": {},
     "output_type": "execute_result"
    }
   ],
   "source": [
    "# Instead of performing this calculation over and over again ...\n",
    "4 - 2 * (1 + 6 / 3)"
   ]
  },
  {
   "cell_type": "code",
   "execution_count": 5,
   "metadata": {},
   "outputs": [],
   "source": [
    "# Try assigning it to a variable for future use!\n",
    "y = 4 - 2 * (1 + 6 / 3)"
   ]
  },
  {
   "cell_type": "markdown",
   "metadata": {
    "tags": [
     "ignore"
    ]
   },
   "source": [
    "An assignment statement, such as `y = 4 - 2 * (1 + 6 / 3)` has three parts: on the left is the variable **name** (`y`), on the right is the variable's **value** (`4 - 2 * (1 + 6 / 3)`), and the equals sign in the middle tells the computer to assign the value to the name.\n",
    "\n",
    "You might have noticed that running that second cell did not output anything, however, we can access that value again and again in the future."
   ]
  },
  {
   "cell_type": "code",
   "execution_count": 6,
   "metadata": {
    "tags": [
     "ignore"
    ]
   },
   "outputs": [
    {
     "data": {
      "text/plain": [
       "-2.0"
      ]
     },
     "execution_count": 6,
     "metadata": {},
     "output_type": "execute_result"
    }
   ],
   "source": [
    "# We can print the value as follows\n",
    "y"
   ]
  },
  {
   "cell_type": "code",
   "execution_count": 7,
   "metadata": {
    "tags": [
     "ignore"
    ]
   },
   "outputs": [
    {
     "data": {
      "text/plain": [
       "-4.0"
      ]
     },
     "execution_count": 7,
     "metadata": {},
     "output_type": "execute_result"
    }
   ],
   "source": [
    "# We can also use it in other calculations now!\n",
    "y * 2"
   ]
  },
  {
   "cell_type": "markdown",
   "metadata": {
    "tags": [
     "ignore"
    ]
   },
   "source": [
    "#### Tables\n",
    "\n",
    "In most cases, when interacting with data you will be working with **tables**. In this section, we will cover how to examine and manipulate data using Python!\n",
    "\n",
    "**Tables** are the fundamental way we organize and display data. <font color = #d14d0f>**Run the cell below to load the data we will be working with!**</font>"
   ]
  },
  {
   "cell_type": "code",
   "execution_count": 8,
   "metadata": {
    "tags": [
     "ignore"
    ]
   },
   "outputs": [
    {
     "data": {
      "text/html": [
       "<table border=\"1\" class=\"dataframe\">\n",
       "    <thead>\n",
       "        <tr>\n",
       "            <th>Unnamed: 0</th> <th>year</th> <th>month</th> <th>institution_name</th> <th>population_felons</th> <th>civil_addict</th> <th>total_population</th> <th>designed_capacity</th> <th>percent_occupied</th> <th>staffed_capacity</th>\n",
       "        </tr>\n",
       "    </thead>\n",
       "    <tbody>\n",
       "        <tr>\n",
       "            <td>0         </td> <td>1996</td> <td>1    </td> <td>VSP (VALLEY SP)                 </td> <td>2294             </td> <td>0           </td> <td>2294            </td> <td>1980             </td> <td>115.9           </td> <td>1980            </td>\n",
       "        </tr>\n",
       "        <tr>\n",
       "            <td>1         </td> <td>1996</td> <td>1    </td> <td>SCC (SIERRA CONSERVATION CENTER)</td> <td>322              </td> <td>0           </td> <td>322             </td> <td>320              </td> <td>100.6           </td> <td>320             </td>\n",
       "        </tr>\n",
       "        <tr>\n",
       "            <td>2         </td> <td>1996</td> <td>1    </td> <td>NCWF (NO CAL WOMEN'S FACIL)     </td> <td>786              </td> <td>4           </td> <td>790             </td> <td>400              </td> <td>197.5           </td> <td>760             </td>\n",
       "        </tr>\n",
       "        <tr>\n",
       "            <td>3         </td> <td>1996</td> <td>1    </td> <td>CCWF (CENTRAL CA WOMEN'S FAC)   </td> <td>2846             </td> <td>13          </td> <td>2859            </td> <td>2004             </td> <td>142.7           </td> <td>3224            </td>\n",
       "        </tr>\n",
       "        <tr>\n",
       "            <td>4         </td> <td>1996</td> <td>1    </td> <td>CRC (CAL REHAB CTR, WOMEN)      </td> <td>91               </td> <td>703         </td> <td>794             </td> <td>500              </td> <td>158.8           </td> <td>842             </td>\n",
       "        </tr>\n",
       "    </tbody>\n",
       "</table>\n",
       "<p>... (9496 rows omitted)</p>"
      ],
      "text/plain": [
       "<IPython.core.display.HTML object>"
      ]
     },
     "metadata": {},
     "output_type": "display_data"
    }
   ],
   "source": [
    "# Below we see an assignment statement.\n",
    "# We are telling the computer to create a Table and read in some data.\n",
    "\n",
    "prisons = Table().read_table(\"./data/monthly_cdcr.csv\")\n",
    "\n",
    "# This next command will display the top 5 entries. You can change the number\n",
    "# to view a different amount of entries at time.\n",
    "prisons.show(5)"
   ]
  },
  {
   "cell_type": "markdown",
   "metadata": {
    "tags": [
     "ignore"
    ]
   },
   "source": [
    "This table is organized into **columns**, one for each category of information collected. You can also think about the table in terms of its rows, where each row represents all the information collected about a particular instance, in this case, different state prisons. By default only the first 10 rows are shown, but as you can see in the code we ran, we changed it to 5.\n",
    "\n",
    "**Table Attributes**\n",
    "\n",
    "Every table has **attributes** that give information about the table, such as the number of rows and the number of columns. Attributes you'll use frequently include `num_rows` and `num_columns`, which give the number of rows and columns in the table, respectively. These are accessed using something called **dot notation** which means we won't be using any parentheses like in our print statement (Hello World!) earlier."
   ]
  },
  {
   "cell_type": "code",
   "execution_count": 9,
   "metadata": {
    "tags": [
     "ignore"
    ]
   },
   "outputs": [
    {
     "data": {
      "text/plain": [
       "10"
      ]
     },
     "execution_count": 9,
     "metadata": {},
     "output_type": "execute_result"
    }
   ],
   "source": [
    "# Get the number of columns\n",
    "prisons.num_columns"
   ]
  },
  {
   "cell_type": "code",
   "execution_count": 10,
   "metadata": {
    "tags": [
     "ignore"
    ]
   },
   "outputs": [
    {
     "data": {
      "text/plain": [
       "9501"
      ]
     },
     "execution_count": 10,
     "metadata": {},
     "output_type": "execute_result"
    }
   ],
   "source": [
    "# Get the number of rows\n",
    "prisons.num_rows"
   ]
  },
  {
   "cell_type": "markdown",
   "metadata": {
    "tags": [
     "include"
    ]
   },
   "source": [
    "<font color = #d14d0f>**QUESTION 1**:</font> Given the output of the cell above, how many state prisons are included in our data set?"
   ]
  },
  {
   "cell_type": "markdown",
   "metadata": {
    "tags": [
     "include"
    ]
   },
   "source": [
    "**9501**"
   ]
  },
  {
   "cell_type": "markdown",
   "metadata": {
    "tags": [
     "ignore"
    ]
   },
   "source": [
    "In other situations, we will want to sort, filter, or group our data. In order to manipulate our data stored in a table, we will be using various table functions. These will be explained as we go through them as to not overwhelm you!\n",
    "\n",
    "Now that you have a basic grasp on Python and the kinds of information we'll be working with, we can move on to where our data came from and how to interact with it.\n",
    "\n",
    "Congrats on finishing the Jupyter Notebook and Python overview!"
   ]
  },
  {
   "cell_type": "markdown",
   "metadata": {
    "tags": [
     "ignore"
    ]
   },
   "source": [
    "## <font color =#d14d0f>The Data</font> <a id='sectiondata'></a>\n",
    "---\n",
    "\n",
    "Over the course of two online lectures, we will be working through two notebooks. This first one will inform you about state prisons and the second one will about county jails. \n",
    "\n",
    "In this notebook, you will use data from the CDCR (California Department of Corrections and Rehabilitation).\n",
    "\n",
    "The CDCR reports the number of people in state prisons across California. In this data set, you will find information about the capacity (staff & design) of each prison and the current population. This will provide with a framework with which to understand prison overcrowding and the effectiveness of policy to reduce it. \n",
    "\n",
    "If you are interested in learning more please visit:\n",
    "\n",
    "[CDCR data and infromation](https://github.com/nrjones8/cdcr-population-data)\n",
    "\n",
    "\n",
    "## <font color =#d14d0f>Context</font>  <a id='sectioncontext'></a>\n",
    "---\n",
    "\n",
    "Throughout the course, we have learned about the policies of realignment, incarceration, and crime trends in California. By exploring this dataset we hope to get a clearer picture of the magnitude of prison and county jail overcrowding per facility and region, and the effects of realignment policies in state prisons and county jails.\n",
    "\n",
    "The key difference between state prisons and jails involve the process of sentencing. Prisons are designed for long term sentences, while jails are for those who are unsentenced or have short term sentences. It is important to note that short-term sentences are generally one year or less. Another difference is that prisons are larger and controlled at the state level. In contrast, jails are smaller and handled by a city or county.\n",
    "\n",
    "The relationship between the two institutions is emphasized by mass incarceration. Through this activity, we will analyze how overcrowding within California’s state prisons influenced the size of jail populations after realignment policies were implemented."
   ]
  },
  {
   "cell_type": "markdown",
   "metadata": {
    "tags": [
     "ignore"
    ]
   },
   "source": [
    "## <font color =#d14d0f>Prisons</font> <a id='section1'></a>\n",
    "---\n",
    "\n",
    "To observe how realignment influenced California's prisons and jails, we obtained data from 1996 to 2018, so that we could understand the trend over time. We will start by observing California's state prisons using the data we found through the CDCR (California Department of Corrections and Rehabilitation)."
   ]
  },
  {
   "cell_type": "markdown",
   "metadata": {
    "tags": [
     "ignore"
    ]
   },
   "source": [
    "### **Data** <a id='subsection1'> </a>\n",
    "\n",
    "#### Data Dictionary\n",
    "Below you will find a data dictionary for future reference. This data dictionary goes over what the column names mean in the data we loaded previously.\n",
    "\n",
    "|Column Name   | Description |\n",
    "|--------------|---------|\n",
    "|year |Year that the data was collected  |\n",
    "|month | Month that the data was collected |\n",
    "|institution_name |  Abbreviated Name of the State Prison|\n",
    "|population_felons | People imprisoned for committing felony (serious or violent crime) |\n",
    "|civil_addict | People imprisoned for drug related offenses |\n",
    "|total_population | Sum of civil addict and population felons columns|\n",
    "|designed_capacity | Max number of people the prison was built to hold|\n",
    "|percent_occupied | Percentage of people incarcerated out of designed capacity|\n",
    "|staffed_capacity | Max number of people the prison can hold based on the number of people employed|\n",
    "\n",
    "We've already imported the data in a cell above, but let's take a look at it again. This time we'll sort it by year with the oldest years at the top."
   ]
  },
  {
   "cell_type": "code",
   "execution_count": 11,
   "metadata": {
    "tags": [
     "ignore"
    ]
   },
   "outputs": [
    {
     "data": {
      "text/html": [
       "<table border=\"1\" class=\"dataframe\">\n",
       "    <thead>\n",
       "        <tr>\n",
       "            <th>Unnamed: 0</th> <th>year</th> <th>month</th> <th>institution_name</th> <th>population_felons</th> <th>civil_addict</th> <th>total_population</th> <th>designed_capacity</th> <th>percent_occupied</th> <th>staffed_capacity</th>\n",
       "        </tr>\n",
       "    </thead>\n",
       "    <tbody>\n",
       "        <tr>\n",
       "            <td>0         </td> <td>1996</td> <td>1    </td> <td>VSP (VALLEY SP)                 </td> <td>2294             </td> <td>0           </td> <td>2294            </td> <td>1980             </td> <td>115.9           </td> <td>1980            </td>\n",
       "        </tr>\n",
       "        <tr>\n",
       "            <td>1         </td> <td>1996</td> <td>1    </td> <td>SCC (SIERRA CONSERVATION CENTER)</td> <td>322              </td> <td>0           </td> <td>322             </td> <td>320              </td> <td>100.6           </td> <td>320             </td>\n",
       "        </tr>\n",
       "        <tr>\n",
       "            <td>2         </td> <td>1996</td> <td>1    </td> <td>NCWF (NO CAL WOMEN'S FACIL)     </td> <td>786              </td> <td>4           </td> <td>790             </td> <td>400              </td> <td>197.5           </td> <td>760             </td>\n",
       "        </tr>\n",
       "        <tr>\n",
       "            <td>3         </td> <td>1996</td> <td>1    </td> <td>CCWF (CENTRAL CA WOMEN'S FAC)   </td> <td>2846             </td> <td>13          </td> <td>2859            </td> <td>2004             </td> <td>142.7           </td> <td>3224            </td>\n",
       "        </tr>\n",
       "        <tr>\n",
       "            <td>4         </td> <td>1996</td> <td>1    </td> <td>CRC (CAL REHAB CTR, WOMEN)      </td> <td>91               </td> <td>703         </td> <td>794             </td> <td>500              </td> <td>158.8           </td> <td>842             </td>\n",
       "        </tr>\n",
       "    </tbody>\n",
       "</table>\n",
       "<p>... (9496 rows omitted)</p>"
      ],
      "text/plain": [
       "<IPython.core.display.HTML object>"
      ]
     },
     "metadata": {},
     "output_type": "display_data"
    }
   ],
   "source": [
    "prisons.sort('year').show(5)"
   ]
  },
  {
   "cell_type": "markdown",
   "metadata": {
    "tags": [
     "ignore"
    ]
   },
   "source": [
    "### **Data Analysis** <a id='subsection2'> </a>\n",
    "\n",
    "When processing a new data set, it is a good idea to play around with the data and try to combine it in different ways. To start it's good to think about how many times we expect each prison to occur in our dataset, and how many times they **actually** appear.\n",
    "\n",
    "Our dataset is made up of prisons in California from the year 1996 to 2018. The counts in our data set were done monthly, meaning for each year we expect there to be at most 12 counts for each prison. Let's calculate the number of times we expect each prison to appear in a cell below."
   ]
  },
  {
   "cell_type": "code",
   "execution_count": 12,
   "metadata": {},
   "outputs": [
    {
     "data": {
      "text/plain": [
       "276"
      ]
     },
     "execution_count": 12,
     "metadata": {},
     "output_type": "execute_result"
    }
   ],
   "source": [
    "months = 12\n",
    "years = 2018 - 1996 + 1 # We add one to our calculation because we want to include 1996\n",
    "\n",
    "months * years"
   ]
  },
  {
   "cell_type": "markdown",
   "metadata": {
    "tags": [
     "ignore"
    ]
   },
   "source": [
    "By running the cell above you should see that we expect for there to be a maximum of 276 instances of each prison for the time period we have in our data set. This amount is equivalent to an entry once a month for 23 years.\n",
    "\n",
    "To find the number of times that each institution appears in our data set, we would have to group by the institution name. Essentially, we want our computer to make groups that only have values from the same prison. After we have made these groups, we can decide how to handle the data per group.\n",
    "\n",
    "The code that corresponds to this is the table function `group()`. The `group()` function takes in a column name and puts all the similar values in that column into groups, then it counts the number of items in each group.\n",
    "\n",
    "Then, we can use the `sort()` function to order the counts in a specific order."
   ]
  },
  {
   "cell_type": "code",
   "execution_count": 13,
   "metadata": {
    "tags": [
     "ignore"
    ]
   },
   "outputs": [
    {
     "data": {
      "text/html": [
       "<table border=\"1\" class=\"dataframe\">\n",
       "    <thead>\n",
       "        <tr>\n",
       "            <th>institution_name</th> <th>count</th>\n",
       "        </tr>\n",
       "    </thead>\n",
       "    <tbody>\n",
       "        <tr>\n",
       "            <td>SCC (SIERRA CONSERVATION CENTER)    </td> <td>392  </td>\n",
       "        </tr>\n",
       "        <tr>\n",
       "            <td>LAC (CA SP, LOS ANGELES COUNTY)     </td> <td>283  </td>\n",
       "        </tr>\n",
       "        <tr>\n",
       "            <td>VSP (VALLEY SP)                     </td> <td>279  </td>\n",
       "        </tr>\n",
       "        <tr>\n",
       "            <td>ASP (AVENAL SP)                     </td> <td>276  </td>\n",
       "        </tr>\n",
       "        <tr>\n",
       "            <td>CAL (CALIPATRIA SP)                 </td> <td>276  </td>\n",
       "        </tr>\n",
       "        <tr>\n",
       "            <td>CCC (CA CORRECTIONAL CENTER)        </td> <td>276  </td>\n",
       "        </tr>\n",
       "        <tr>\n",
       "            <td>CCI (CA CORRECTIONAL INSTITUTION)   </td> <td>276  </td>\n",
       "        </tr>\n",
       "        <tr>\n",
       "            <td>CCWF (CENTRAL CA WOMEN'S FAC)       </td> <td>276  </td>\n",
       "        </tr>\n",
       "        <tr>\n",
       "            <td>CEN (CENTINELA SP)                  </td> <td>276  </td>\n",
       "        </tr>\n",
       "        <tr>\n",
       "            <td>CIM (CA INSTITUTION FOR MEN)        </td> <td>276  </td>\n",
       "        </tr>\n",
       "        <tr>\n",
       "            <td>CIW (CA INSTITUTION FOR WOMEN)      </td> <td>276  </td>\n",
       "        </tr>\n",
       "        <tr>\n",
       "            <td>CMC (CA MEN'S COLONY)               </td> <td>276  </td>\n",
       "        </tr>\n",
       "        <tr>\n",
       "            <td>CMF (CA MEDICAL FAC)                </td> <td>276  </td>\n",
       "        </tr>\n",
       "        <tr>\n",
       "            <td>COR (CA SP, CORCORAN)               </td> <td>276  </td>\n",
       "        </tr>\n",
       "        <tr>\n",
       "            <td>CRC (CAL REHAB CTR, MEN)            </td> <td>276  </td>\n",
       "        </tr>\n",
       "        <tr>\n",
       "            <td>CTF (CORRECTIONAL TRAINING FAC)     </td> <td>276  </td>\n",
       "        </tr>\n",
       "        <tr>\n",
       "            <td>CVSP (CHUCKAWALLA VALLEY SP)        </td> <td>276  </td>\n",
       "        </tr>\n",
       "        <tr>\n",
       "            <td>DVI (DEUEL VOCATIONAL INSTITUTION)  </td> <td>276  </td>\n",
       "        </tr>\n",
       "        <tr>\n",
       "            <td>FOL (FOLSOM SP) (MALE)              </td> <td>276  </td>\n",
       "        </tr>\n",
       "        <tr>\n",
       "            <td>HDSP (HIGH DESERT SP)               </td> <td>276  </td>\n",
       "        </tr>\n",
       "        <tr>\n",
       "            <td>ISP (IRONWOOD SP)                   </td> <td>276  </td>\n",
       "        </tr>\n",
       "        <tr>\n",
       "            <td>MCSP (MULE CREEK SP)                </td> <td>276  </td>\n",
       "        </tr>\n",
       "        <tr>\n",
       "            <td>NKSP (NORTH KERN SP)                </td> <td>276  </td>\n",
       "        </tr>\n",
       "        <tr>\n",
       "            <td>PBSP (PELICAN BAY SP)               </td> <td>276  </td>\n",
       "        </tr>\n",
       "        <tr>\n",
       "            <td>PVSP (PLEASANT VALLEY SP)           </td> <td>276  </td>\n",
       "        </tr>\n",
       "        <tr>\n",
       "            <td>RJD (RJ DONOVAN CORRECTIONAL FAC)   </td> <td>276  </td>\n",
       "        </tr>\n",
       "        <tr>\n",
       "            <td>SAC (CA SP, SACRAMENTO)             </td> <td>276  </td>\n",
       "        </tr>\n",
       "        <tr>\n",
       "            <td>SOL (CA SP, SOLANO)                 </td> <td>276  </td>\n",
       "        </tr>\n",
       "        <tr>\n",
       "            <td>SQ (SAN QUENTIN SP)                 </td> <td>276  </td>\n",
       "        </tr>\n",
       "        <tr>\n",
       "            <td>WSP (WASCO SP)                      </td> <td>276  </td>\n",
       "        </tr>\n",
       "        <tr>\n",
       "            <td>SVSP (SALINAS VALLEY SP)            </td> <td>272  </td>\n",
       "        </tr>\n",
       "        <tr>\n",
       "            <td>SATF (CA SUBSTANCE ABUSE TREAT FAC) </td> <td>257  </td>\n",
       "        </tr>\n",
       "        <tr>\n",
       "            <td>KVSP (KERN VALLEY SP)               </td> <td>163  </td>\n",
       "        </tr>\n",
       "        <tr>\n",
       "            <td>CRC (CAL REHAB CTR, WOMEN)          </td> <td>138  </td>\n",
       "        </tr>\n",
       "        <tr>\n",
       "            <td>NCWF (NO CAL WOMEN'S FACIL)         </td> <td>85   </td>\n",
       "        </tr>\n",
       "        <tr>\n",
       "            <td>FOL (FOLSOM SP) (FEMALE)            </td> <td>72   </td>\n",
       "        </tr>\n",
       "        <tr>\n",
       "            <td>CHCF (CA HEALTH CARE FAC - STOCKTON)</td> <td>66   </td>\n",
       "        </tr>\n",
       "        <tr>\n",
       "            <td>SBRN (SAN BRUNO CO. JAIL)           </td> <td>20   </td>\n",
       "        </tr>\n",
       "        <tr>\n",
       "            <td>FRCC (FRCCC BAKERSFIELD)            </td> <td>17   </td>\n",
       "        </tr>\n",
       "        <tr>\n",
       "            <td>SRTA (SANTA RITA CO. JAIL-RC)       </td> <td>5    </td>\n",
       "        </tr>\n",
       "    </tbody>\n",
       "</table>"
      ],
      "text/plain": [
       "<IPython.core.display.HTML object>"
      ]
     },
     "metadata": {},
     "output_type": "display_data"
    }
   ],
   "source": [
    "# We choose to have the counts in descending order in the following example:\n",
    "prisons.group(\"institution_name\").sort(\"count\", descending = True).show()"
   ]
  },
  {
   "cell_type": "markdown",
   "metadata": {
    "tags": [
     "include"
    ]
   },
   "source": [
    "<font color = #d14d0f>**QUESTION 2**:</font> What do we notice from this table? You should notice that there are values in our table that do not correlate with what we calculated above. Remember that we expect each prison to appear at most 276 times."
   ]
  },
  {
   "cell_type": "markdown",
   "metadata": {
    "tags": [
     "include"
    ]
   },
   "source": [
    "**Some have more or less than 276 (extra or missing data)**"
   ]
  },
  {
   "cell_type": "markdown",
   "metadata": {
    "tags": [
     "ignore"
    ]
   },
   "source": [
    "The cases where we have counts greater than 276 should interest you. If we assume that some of these counts are due to multiple entries per month, why would a prison need to do this? What is the significance of these counts, meaning what makes one count in a month different from the other count in that same month?\n",
    "\n",
    "To understand why we have different counts, we will look into these special prisons. Thus, the prisons we will observe in the rest of this section are:\n",
    "- Valley State Prison (VSP)\n",
    "- Sierra Conservation Center (SCC)\n",
    "- Los Angeles County State Prison (LAC)\n",
    "\n",
    "In the following section, we will explain what we think is the cause of \"inconsistency\" in the data, and how we decided to handle it. Then, we will read a data table with the \"cleaned\" data using `Table().read_table()` and assign it to a new variable.\n",
    "\n",
    "Though we denoted them as \"inconsistencies\", we urge you not to look at this as mistakes in the data but try to think how they fit into the major issues we have learned about in the class."
   ]
  },
  {
   "cell_type": "markdown",
   "metadata": {
    "tags": [
     "ignore"
    ]
   },
   "source": [
    "#### Valley State Prison\n",
    "\n",
    "From outside research, we discovered that Valley State Prison changed from a female prison to a male prison in 2012 -- October of 2012 to be exact. However, all rows are labeled as a male institution. For future analysis, it would be better to separate VSP into its corresponding female and male years. Thus, we decided to split and relabeled the VSP data into male and female parts. The code for this process is not shown but we have cleaned the data and are reading it as a new table below!"
   ]
  },
  {
   "cell_type": "code",
   "execution_count": 14,
   "metadata": {},
   "outputs": [
    {
     "data": {
      "text/html": [
       "<table border=\"1\" class=\"dataframe\">\n",
       "    <thead>\n",
       "        <tr>\n",
       "            <th>Unnamed: 0</th> <th>year</th> <th>month</th> <th>institution_name</th> <th>population_felons</th> <th>civil_addict</th> <th>total_population</th> <th>designed_capacity</th> <th>percent_occupied</th> <th>staffed_capacity</th>\n",
       "        </tr>\n",
       "    </thead>\n",
       "    <tbody>\n",
       "        <tr>\n",
       "            <td>0         </td> <td>1996</td> <td>1    </td> <td>VALLEY SP (FEMALE)</td> <td>2294             </td> <td>0           </td> <td>2294            </td> <td>1980             </td> <td>115.9           </td> <td>1980            </td>\n",
       "        </tr>\n",
       "        <tr>\n",
       "            <td>34        </td> <td>1996</td> <td>2    </td> <td>VALLEY SP (FEMALE)</td> <td>2096             </td> <td>0           </td> <td>2096            </td> <td>1980             </td> <td>105.9           </td> <td>2184            </td>\n",
       "        </tr>\n",
       "        <tr>\n",
       "            <td>68        </td> <td>1996</td> <td>3    </td> <td>VALLEY SP (FEMALE)</td> <td>2326             </td> <td>7           </td> <td>2333            </td> <td>2380             </td> <td>98              </td> <td>2584            </td>\n",
       "        </tr>\n",
       "        <tr>\n",
       "            <td>102       </td> <td>1996</td> <td>4    </td> <td>VALLEY SP (FEMALE)</td> <td>2498             </td> <td>13          </td> <td>2511            </td> <td>2380             </td> <td>105.5           </td> <td>2584            </td>\n",
       "        </tr>\n",
       "        <tr>\n",
       "            <td>136       </td> <td>1996</td> <td>5    </td> <td>VALLEY SP (FEMALE)</td> <td>2562             </td> <td>9           </td> <td>2571            </td> <td>2380             </td> <td>108             </td> <td>2584            </td>\n",
       "        </tr>\n",
       "    </tbody>\n",
       "</table>\n",
       "<p>... (274 rows omitted)</p>"
      ],
      "text/plain": [
       "<IPython.core.display.HTML object>"
      ]
     },
     "metadata": {},
     "output_type": "display_data"
    }
   ],
   "source": [
    "prisons_1 = Table().read_table(\"data/prisons1.csv\")\n",
    "prisons_1.where('institution_name', are.containing(\"VALLEY SP (\")).show(5)"
   ]
  },
  {
   "cell_type": "markdown",
   "metadata": {
    "tags": [
     "ignore"
    ]
   },
   "source": [
    "#### Sierra Conservation Center (SCC)\n",
    "\n",
    "For the Sierra Conservation Center, there were many double counts for each month. When we researched why there were separate counts for the same prison, it was unclear. One count had values in the thousands, while the other count was in the hundreds. Our best guess is that the prison counted the number of people within a fire camp nearby. We split and relabeled our data to show the difference between the smaller and larger population. Once again the code for this process is not shown but we read it in as a new table."
   ]
  },
  {
   "cell_type": "code",
   "execution_count": 18,
   "metadata": {
    "tags": [
     "ignore"
    ]
   },
   "outputs": [
    {
     "data": {
      "text/html": [
       "<table border=\"1\" class=\"dataframe\">\n",
       "    <thead>\n",
       "        <tr>\n",
       "            <th>Unnamed: 0</th> <th>year</th> <th>month</th> <th>institution_name</th> <th>population_felons</th> <th>civil_addict</th> <th>total_population</th> <th>designed_capacity</th> <th>percent_occupied</th> <th>staffed_capacity</th>\n",
       "        </tr>\n",
       "    </thead>\n",
       "    <tbody>\n",
       "        <tr>\n",
       "            <td>7         </td> <td>1996</td> <td>1    </td> <td>SIERRA CONSERVATION CENTER (PRISON)</td> <td>6010             </td> <td>0           </td> <td>6010            </td> <td>3606             </td> <td>166.7           </td> <td>5884            </td>\n",
       "        </tr>\n",
       "        <tr>\n",
       "            <td>41        </td> <td>1996</td> <td>2    </td> <td>SIERRA CONSERVATION CENTER (PRISON)</td> <td>5912             </td> <td>0           </td> <td>5912            </td> <td>3606             </td> <td>163.9           </td> <td>5884            </td>\n",
       "        </tr>\n",
       "        <tr>\n",
       "            <td>75        </td> <td>1996</td> <td>3    </td> <td>SIERRA CONSERVATION CENTER (PRISON)</td> <td>5912             </td> <td>0           </td> <td>5912            </td> <td>3606             </td> <td>163.9           </td> <td>5884            </td>\n",
       "        </tr>\n",
       "        <tr>\n",
       "            <td>109       </td> <td>1996</td> <td>4    </td> <td>SIERRA CONSERVATION CENTER (PRISON)</td> <td>5979             </td> <td>0           </td> <td>5979            </td> <td>3606             </td> <td>165.8           </td> <td>5884            </td>\n",
       "        </tr>\n",
       "        <tr>\n",
       "            <td>143       </td> <td>1996</td> <td>5    </td> <td>SIERRA CONSERVATION CENTER (PRISON)</td> <td>5884             </td> <td>0           </td> <td>5884            </td> <td>3606             </td> <td>163.2           </td> <td>5884            </td>\n",
       "        </tr>\n",
       "    </tbody>\n",
       "</table>\n",
       "<p>... (387 rows omitted)</p>"
      ],
      "text/plain": [
       "<IPython.core.display.HTML object>"
      ]
     },
     "metadata": {},
     "output_type": "display_data"
    }
   ],
   "source": [
    "prisons_2 = Table().read_table(\"data/prisons2.csv\")\n",
    "prisons_2.where('institution_name', are.containing(\"SIERRA\")).show(5)"
   ]
  },
  {
   "cell_type": "markdown",
   "metadata": {
    "tags": [
     "include"
    ]
   },
   "source": [
    "#### Los Angeles County State Prison (LAC)\n",
    "\n",
    "In the case of Los Angeles County prison, we saw that from December 2005 to June 2006 there was a double count recorded for the prison population. Although we are unsure what caused the differences between the two groups, we noted that one group had a population size ranging in the four thousands while the other group was in the range of less than one thousand. We split and relabeled the data to show the difference between the smaller and larger population.\n",
    "\n",
    "<font color = #d14d0f>**QUESTION 3**:</font> Why might we want to use the difference between the two populations instead of just replacing the population with either count?"
   ]
  },
  {
   "cell_type": "markdown",
   "metadata": {
    "tags": [
     "include"
    ]
   },
   "source": [
    "**There are fire centers (smaller sections of the prison). We subtract the smalle number because the portion without the fire center better represents the prison.**"
   ]
  },
  {
   "cell_type": "code",
   "execution_count": 19,
   "metadata": {},
   "outputs": [
    {
     "data": {
      "text/html": [
       "<table border=\"1\" class=\"dataframe\">\n",
       "    <thead>\n",
       "        <tr>\n",
       "            <th>Unnamed: 0</th> <th>year</th> <th>month</th> <th>institution_name</th> <th>population_felons</th> <th>civil_addict</th> <th>total_population</th> <th>designed_capacity</th> <th>percent_occupied</th> <th>staffed_capacity</th>\n",
       "        </tr>\n",
       "    </thead>\n",
       "    <tbody>\n",
       "        <tr>\n",
       "            <td>23        </td> <td>1996</td> <td>1    </td> <td>LOS ANGELES COUNTY (STATE PRISON)</td> <td>3978             </td> <td>0           </td> <td>3978            </td> <td>2200             </td> <td>180.8           </td> <td>4000            </td>\n",
       "        </tr>\n",
       "        <tr>\n",
       "            <td>57        </td> <td>1996</td> <td>2    </td> <td>LOS ANGELES COUNTY (STATE PRISON)</td> <td>3919             </td> <td>0           </td> <td>3919            </td> <td>2200             </td> <td>178.1           </td> <td>4000            </td>\n",
       "        </tr>\n",
       "        <tr>\n",
       "            <td>91        </td> <td>1996</td> <td>3    </td> <td>LOS ANGELES COUNTY (STATE PRISON)</td> <td>3975             </td> <td>0           </td> <td>3975            </td> <td>2200             </td> <td>180.7           </td> <td>4000            </td>\n",
       "        </tr>\n",
       "        <tr>\n",
       "            <td>125       </td> <td>1996</td> <td>4    </td> <td>LOS ANGELES COUNTY (STATE PRISON)</td> <td>4064             </td> <td>0           </td> <td>4064            </td> <td>2200             </td> <td>184.7           </td> <td>4000            </td>\n",
       "        </tr>\n",
       "        <tr>\n",
       "            <td>160       </td> <td>1996</td> <td>5    </td> <td>LOS ANGELES COUNTY (STATE PRISON)</td> <td>4012             </td> <td>0           </td> <td>4012            </td> <td>2200             </td> <td>182.4           </td> <td>4000            </td>\n",
       "        </tr>\n",
       "    </tbody>\n",
       "</table>\n",
       "<p>... (278 rows omitted)</p>"
      ],
      "text/plain": [
       "<IPython.core.display.HTML object>"
      ]
     },
     "metadata": {},
     "output_type": "display_data"
    }
   ],
   "source": [
    "prisons_3 = Table().read_table(\"data/prisons3.csv\")\n",
    "prisons_3.where('institution_name', are.containing(\"LOS\")).show(5)"
   ]
  },
  {
   "cell_type": "markdown",
   "metadata": {
    "tags": [
     "ignore"
    ]
   },
   "source": [
    "### **General: Designed & Staffed Capacity** <a id='subsection3'> </a>\n",
    "\n",
    "#### Designed Capacity of California's Prisons Over Time\n",
    "\n",
    "**Context**: The Prison Industrial Complex has created our current issue with mass incarceration. Throughout the course, you have learned how prisons are designed to hold large numbers of people, and how creating these large institutions perpetuates the cycle of mass incarceration because these prisons are made with the intent to be filled.\n",
    "\n",
    "In this next section, we will break down how the designed capacity of prisons is related to the actual population within a given institution. We will later compare the total population with the number of people employed to sustain this system.\n",
    "\n",
    "**Data Cleaning**: We will be looking at the trends in prison population over time. For this purpose it is not necessary to view all the columns of our table so we will use another table function, `select()` to cut out the unnecessary columns. We will be keeping `year`, `institution_name`, and `designed_capacity`. In order to use this table in the future, we will assign it to a new variable called `year_and_design_capacity`.\n",
    "\n",
    "Before we continue, please note that for the remainder of this notebook, we will use an updated version of the `prisons` table that includes the changes we made above. We call this updated table `prisons_updated`."
   ]
  },
  {
   "cell_type": "code",
   "execution_count": 20,
   "metadata": {
    "tags": [
     "ignore"
    ]
   },
   "outputs": [
    {
     "data": {
      "text/html": [
       "<table border=\"1\" class=\"dataframe\">\n",
       "    <thead>\n",
       "        <tr>\n",
       "            <th>year</th> <th>institution_name</th> <th>designed_capacity</th>\n",
       "        </tr>\n",
       "    </thead>\n",
       "    <tbody>\n",
       "        <tr>\n",
       "            <td>1996</td> <td>NCWF (NO CAL WOMEN'S FACIL)  </td> <td>400              </td>\n",
       "        </tr>\n",
       "        <tr>\n",
       "            <td>1996</td> <td>CCWF (CENTRAL CA WOMEN'S FAC)</td> <td>2004             </td>\n",
       "        </tr>\n",
       "        <tr>\n",
       "            <td>1996</td> <td>CRC (CAL REHAB CTR, WOMEN)   </td> <td>500              </td>\n",
       "        </tr>\n",
       "    </tbody>\n",
       "</table>\n",
       "<p>... (9498 rows omitted)</p>"
      ],
      "text/plain": [
       "<IPython.core.display.HTML object>"
      ]
     },
     "metadata": {},
     "output_type": "display_data"
    }
   ],
   "source": [
    "# Include the changes listed above\n",
    "prisons_updated = prisons_3\n",
    "\n",
    "# Select only the necessary columns and show the top 3\n",
    "year_and_design_capacity = prisons_updated.select(\"year\", \"institution_name\",'designed_capacity')\n",
    "year_and_design_capacity.show(3)"
   ]
  },
  {
   "cell_type": "markdown",
   "metadata": {
    "tags": [
     "ignore"
    ]
   },
   "source": [
    "Now we want to see what is the `designed_capacity` for ALL the prisons in a given year. Remember that nifty `group()` function? We achieve our goal by grouping by year using the function `group()` and summing over all the prisons in that year. Since we are only interested in looking at designed capacity for all prisons, we can create a new table that only includes the `designed_capacity` and `year` columns. We do this by selecting the necessary columns just as we did above!"
   ]
  },
  {
   "cell_type": "code",
   "execution_count": 21,
   "metadata": {
    "tags": [
     "ignore"
    ]
   },
   "outputs": [
    {
     "data": {
      "text/html": [
       "<table border=\"1\" class=\"dataframe\">\n",
       "    <thead>\n",
       "        <tr>\n",
       "            <th>year</th> <th>designed_capacity sum</th>\n",
       "        </tr>\n",
       "    </thead>\n",
       "    <tbody>\n",
       "        <tr>\n",
       "            <td>1996</td> <td>873676               </td>\n",
       "        </tr>\n",
       "        <tr>\n",
       "            <td>1997</td> <td>910797               </td>\n",
       "        </tr>\n",
       "        <tr>\n",
       "            <td>1998</td> <td>956740               </td>\n",
       "        </tr>\n",
       "    </tbody>\n",
       "</table>\n",
       "<p>... (20 rows omitted)</p>"
      ],
      "text/plain": [
       "<IPython.core.display.HTML object>"
      ]
     },
     "metadata": {},
     "output_type": "display_data"
    }
   ],
   "source": [
    "design_capacity_ca = year_and_design_capacity.select(\"designed_capacity\", \"year\").group(\"year\", sum)\n",
    "design_capacity_ca.show(3)"
   ]
  },
  {
   "cell_type": "markdown",
   "metadata": {
    "tags": [
     "ignore"
    ]
   },
   "source": [
    "**Plotting**: Although it is possible to compare the values for designed capacity year by year and try to notice a pattern, often times it is more useful to visually inspect the information as it might reveal useful insights and provide a context for the data we are looking at.\n",
    "\n",
    "Below we drew a line plot to reflect the changes in design capacity of California's state prisons over time.\n",
    "\n",
    "In order to plot a trend of our data we will use a `plot()` function that takes in two inputs: `plot(x, y)`, where the `x` and `y` represent two column names that you would like to plot along the x and y axis respectively. We then append this to our table's name using dot notation. This tells the computer in which table to look for those columns.\n",
    "\n",
    "To appropriately label our plot we can use `plt.xlabel('x_axis_name')` and `plt.ylabel('y_axis_name')` to label our axes and `plt.title('plot_title')` for our plot's main title. Notice that we didn't attach any particular table's name via dot notation. These are not table functions but basic plot functionalities from another Python library we loaded at the start of this notebook! In order for them to work, however, they must be run *after* you have created a plot. Take a look below!"
   ]
  },
  {
   "cell_type": "code",
   "execution_count": 22,
   "metadata": {
    "tags": [
     "ignore"
    ]
   },
   "outputs": [
    {
     "data": {
      "image/png": "[encoded data removed]",
      "text/plain": [
       "<Figure size 432x432 with 1 Axes>"
      ]
     },
     "metadata": {},
     "output_type": "display_data"
    }
   ],
   "source": [
    "design_capacity_ca.plot(\"year\", \"designed_capacity sum\")\n",
    "\n",
    "plt.xlabel(\"Year\")\n",
    "plt.ylabel(\"Population\")\n",
    "plt.title(\"Designed Capacity over Time\"); # This semicolon is here for style purposes"
   ]
  },
  {
   "cell_type": "markdown",
   "metadata": {
    "tags": [
     "ignore"
    ]
   },
   "source": [
    "We will focus on some years that mark important shifts as a result of realignment.\n",
    "\n",
    "Let's look at the year 2011. To do this we will employ a new table function to select data only **where** the year is equal to 2011. This function is appropriately named the `where()` function and takes in two inputs: a column name and a year (in that order)."
   ]
  },
  {
   "cell_type": "code",
   "execution_count": 23,
   "metadata": {},
   "outputs": [
    {
     "data": {
      "text/html": [
       "<table border=\"1\" class=\"dataframe\">\n",
       "    <thead>\n",
       "        <tr>\n",
       "            <th>year</th> <th>designed_capacity sum</th>\n",
       "        </tr>\n",
       "    </thead>\n",
       "    <tbody>\n",
       "        <tr>\n",
       "            <td>2011</td> <td>1009197              </td>\n",
       "        </tr>\n",
       "    </tbody>\n",
       "</table>"
      ],
      "text/plain": [
       "year | designed_capacity sum\n",
       "2011 | 1009197"
      ]
     },
     "execution_count": 23,
     "metadata": {},
     "output_type": "execute_result"
    }
   ],
   "source": [
    "design_capacity_2011 = design_capacity_ca.where(\"year\", 2011)\n",
    "design_capacity_2011"
   ]
  },
  {
   "cell_type": "markdown",
   "metadata": {
    "tags": [
     "ignore"
    ]
   },
   "source": [
    "To emphasize this year and visualize it more easily on our trend line, we will run some code that will create a dot where the year equals 2011. Don't worry about the code used, but feel free to read through it if you're interested in seeing how we created this marker."
   ]
  },
  {
   "cell_type": "code",
   "execution_count": 24,
   "metadata": {
    "tags": [
     "include"
    ]
   },
   "outputs": [
    {
     "data": {
      "image/png": "[encoded data removed]",
      "text/plain": [
       "<Figure size 432x432 with 1 Axes>"
      ]
     },
     "metadata": {},
     "output_type": "display_data"
    }
   ],
   "source": [
    "# Assign the year 2011 as the x-coordinate\n",
    "x_coordinate_2011 = design_capacity_2011.column('year')\n",
    "\n",
    "# Assign the designed capacity sum in the year 2011 as the y-coordinate\n",
    "y_coordinate_2011 = design_capacity_2011.column(\"designed_capacity sum\")\n",
    "\n",
    "design_capacity_ca.plot(\"year\", \"designed_capacity sum\"); # Plot our trend\n",
    "\n",
    "plt.xlabel(\"Year\")\n",
    "plt.ylabel(\"Population\")\n",
    "plt.title(\"Design Capacity over time\")\n",
    "\n",
    "plt.plot(x_coordinate_2011, y_coordinate_2011, 'ro'); # Plot a single x,y coordinate"
   ]
  },
  {
   "cell_type": "markdown",
   "metadata": {
    "tags": [
     "include"
    ]
   },
   "source": [
    "<font color = #d14d0f>**QUESTION 4**:</font> In looking at the graph produced, how does it reflect the systematic changes in California's potential prison population? In particular, name a court case that is related to the red marker in our graph."
   ]
  },
  {
   "cell_type": "markdown",
   "metadata": {
    "tags": [
     "include"
    ]
   },
   "source": [
    "*Replace this text with your response!*"
   ]
  },
  {
   "cell_type": "markdown",
   "metadata": {
    "tags": [
     "include"
    ]
   },
   "source": [
    "<font color = #d14d0f>**QUESTION 5**:</font> Let's analyze our graph further; what do you think happened in 2006 that caused the spike we see?"
   ]
  },
  {
   "cell_type": "markdown",
   "metadata": {
    "tags": [
     "include"
    ]
   },
   "source": [
    "*Replace this text with your response!*"
   ]
  },
  {
   "cell_type": "markdown",
   "metadata": {
    "tags": [
     "ignore"
    ]
   },
   "source": [
    "#### Total Population in California's Prisons Over Time\n",
    "\n",
    "**Context**: In the last section, we observed the change in the number of people California's prisons are designed to hold. Given this change over time, we wanted to compare it with the actual number of people within California's prisons and see how the two quantities correlated. To do this, we will calculate the percent for how full prisons were based on *how many people each prison is designed to hold*.\n",
    "\n",
    "**Data Cleaning**: Once again, since we are interested in calculating prison population percentage based on design capacity, we need only a few columns from our `prisons_updated` table. We will select only `year`, `total_population`, and `designed_capacity`. We will call this new table `total_pop_and_design`."
   ]
  },
  {
   "cell_type": "code",
   "execution_count": null,
   "metadata": {},
   "outputs": [],
   "source": [
    "total_pop_and_design = prisons_updated.select(\"year\", \"total_population\", \"designed_capacity\")\n",
    "total_pop_and_design.show(5)"
   ]
  },
  {
   "cell_type": "markdown",
   "metadata": {
    "tags": [
     "ignore"
    ]
   },
   "source": [
    "Similar to our last investigation, we will want to group by year and sum both `total_population` and `designed_capacity` for all prisons given a year."
   ]
  },
  {
   "cell_type": "code",
   "execution_count": null,
   "metadata": {},
   "outputs": [],
   "source": [
    "sum_total_and_design = total_pop_and_design.group(\"year\", sum)\n",
    "sum_total_and_design.show(5)"
   ]
  },
  {
   "cell_type": "markdown",
   "metadata": {
    "tags": [
     "ignore"
    ]
   },
   "source": [
    "Now that we have our information grouped by year and summed over all the prisons, we can begin calculating our percentage. To get this percentage we must first assign all of our `total_population` values to a variable and do the same for `designed_capacity`. Then we will divide the `total_population` values by their corresponding `designed_capacity` and multiply by 100 to get the population percentage."
   ]
  },
  {
   "cell_type": "code",
   "execution_count": null,
   "metadata": {},
   "outputs": [],
   "source": [
    "total_population = sum_total_and_design.column(\"total_population sum\") \n",
    "designed_sum = sum_total_and_design.column(\"designed_capacity sum\")\n",
    "\n",
    "capacity_percentage = (total_population / designed_sum) * 100\n",
    "capacity_percentage"
   ]
  },
  {
   "cell_type": "markdown",
   "metadata": {
    "tags": [
     "ignore"
    ]
   },
   "source": [
    "Note that our output seems to be a list of numbers, separated by commas. This is because for every row, this percentage was calculated, meaning we should have a list (or in Python, this is called an **array**) that is the same length as the number of rows in our table! The code that follows will add this list of percentages back into our table so that we may plot them. Do not worry about the code below, but feel free to take a look!"
   ]
  },
  {
   "cell_type": "code",
   "execution_count": null,
   "metadata": {},
   "outputs": [],
   "source": [
    "# Use .with_column() to add a new column with the percentages calculated above!\n",
    "total_and_design_and_percentages_table = sum_total_and_design.with_column(\"Design Percent\", capacity_percentage)\n",
    "\n",
    "total_and_design_and_percentages_table.show(3)"
   ]
  },
  {
   "cell_type": "markdown",
   "metadata": {
    "tags": [
     "include"
    ]
   },
   "source": [
    "<font color = #d14d0f>**QUESTION 6**:</font> What can you immediately comment on by looking at the top three percentage values in our new column?"
   ]
  },
  {
   "cell_type": "markdown",
   "metadata": {
    "tags": [
     "include"
    ]
   },
   "source": [
    "*Replace this text with your response!*"
   ]
  },
  {
   "cell_type": "markdown",
   "metadata": {
    "tags": [
     "ignore"
    ]
   },
   "source": [
    "Now that we have our table set up correctly, we can plot how overcrowding has changed over time.\n",
    "\n",
    "**Plotting**: Using the same methods as before, we will draw a line plot to reflect the trend in overcrowding in California state prisons over time."
   ]
  },
  {
   "cell_type": "code",
   "execution_count": null,
   "metadata": {
    "tags": [
     "include"
    ]
   },
   "outputs": [],
   "source": [
    "total_and_design_and_percentages_table.plot(\"year\", \"Design Percent\")\n",
    "\n",
    "plt.xlabel(\"Year\")\n",
    "plt.ylabel(\"Design Percent Occupied (%)\")\n",
    "plt.title(\"Overcrowding According to Designed Capacity\");"
   ]
  },
  {
   "cell_type": "markdown",
   "metadata": {
    "tags": [
     "include"
    ]
   },
   "source": [
    "<font color = #d14d0f>**QUESTION 7**:</font> What do you notice about this trend over time?"
   ]
  },
  {
   "cell_type": "markdown",
   "metadata": {
    "tags": [
     "include"
    ]
   },
   "source": [
    "*Replace this text with your response!*"
   ]
  },
  {
   "cell_type": "markdown",
   "metadata": {
    "tags": [
     "ignore"
    ]
   },
   "source": [
    "#### Staffed Capacity\n",
    "\n",
    "We have now seen how prisons exceed the number of people allowed per designated space. Given the amount of overcrowding present in prisons, another key aspect we might want to investigate is the number of people employed to maintain this system. To visualize this, we will calculate the percentage of people within prisons given the amount of staff employed to maintain the prison.\n",
    "\n",
    "Using the same methods as before, we will select and graph this information."
   ]
  },
  {
   "cell_type": "code",
   "execution_count": null,
   "metadata": {},
   "outputs": [],
   "source": [
    "# Select only the necessary columns\n",
    "total_pop_and_staff = prisons_updated.select(\"year\", \"total_population\", \"staffed_capacity\")\n",
    "\n",
    "# Group by year and sum all values for that year\n",
    "pop_and_staff_sum = total_pop_and_staff.group(\"year\", sum)\n",
    "\n",
    "population_column = pop_and_staff_sum.column(\"total_population sum\")\n",
    "staff_capacity_column = pop_and_staff_sum.column(\"staffed_capacity sum\")\n",
    "\n",
    "staff_capacity_percentage = (population_column / staff_capacity_column)* 100\n",
    "\n",
    "# Add a new column with our percentages\n",
    "staff_and_total_percent_table = pop_and_staff_sum.with_column(\"Staff Percent\", staff_capacity_percentage)\n",
    "staff_and_total_percent_table.show(3)"
   ]
  },
  {
   "cell_type": "markdown",
   "metadata": {
    "tags": [
     "ignore"
    ]
   },
   "source": [
    "Now that we have our table set up nicely, we can begin the plotting process:"
   ]
  },
  {
   "cell_type": "code",
   "execution_count": null,
   "metadata": {
    "tags": [
     "include"
    ]
   },
   "outputs": [],
   "source": [
    "staff_and_total_percent_table.plot(\"year\", \"Staff Percent\")\n",
    "\n",
    "plt.xlabel(\"Year\") \n",
    "plt.ylabel(\"Staff Percent Occupied (%)\")\n",
    "plt.title(\"Overcrowding according to Staffed Capacity\");"
   ]
  },
  {
   "cell_type": "markdown",
   "metadata": {
    "tags": [
     "include"
    ]
   },
   "source": [
    "<font color = #d14d0f>**QUESTION 8**:</font> What trends do you notice within the line plot?"
   ]
  },
  {
   "cell_type": "markdown",
   "metadata": {
    "tags": [
     "include"
    ]
   },
   "source": [
    "*Replace this text with your response!*"
   ]
  },
  {
   "cell_type": "markdown",
   "metadata": {
    "tags": [
     "ignore"
    ]
   },
   "source": [
    "#### Designed Capacity Versus Staff Capacity"
   ]
  },
  {
   "cell_type": "markdown",
   "metadata": {
    "tags": [
     "ignore"
    ]
   },
   "source": [
    "In the last two examples, we saw how crowded prisons have been over time by looking at their designed capacity and staffed capacity. However, it is still unclear what the relationship between the two percentages is. The solution? Make another plot! This time we will include both of the percentages we calculated.\n",
    "\n",
    "To do this, we will create a new table with three columns, namely \n",
    "* Year\n",
    "* Design Percentage\n",
    "* Staff Percentage\n",
    "\n",
    "The code used to create this new table is shown below, however you are not required to know how to do this! But feel free to take a look."
   ]
  },
  {
   "cell_type": "code",
   "execution_count": null,
   "metadata": {
    "tags": [
     "include"
    ]
   },
   "outputs": [],
   "source": [
    "# Create a list/array of all the years we have data for\n",
    "years = np.arange(1996, 2018 + 1) # We add 1 to include 2018\n",
    "\n",
    "# Use our new years variable and capacity_percentage and staff_capacity_percentage\n",
    "# from before as new columns in a new table called compare_table_design_and_staff\n",
    "compare_table_design_and_staff = Table().with_columns([\"year\", years,\n",
    "                                    \"Design Percentage\", capacity_percentage,\n",
    "                                    \"Staff Percentage\", staff_capacity_percentage])\n",
    "\n",
    "# Create a plot as before!\n",
    "compare_table_design_and_staff.plot(\"year\") # Notice that we only include one column\n",
    "\n",
    "plt.xlabel(\"Year\")\n",
    "plt.ylabel(\"Percent Occupied\")\n",
    "plt.title(\"Designed Capacity versus Staff Capacity\");"
   ]
  },
  {
   "cell_type": "markdown",
   "metadata": {
    "tags": [
     "include"
    ]
   },
   "source": [
    "<font color = #d14d0f>**QUESTION 9:**</font> Consider the large gap between the two lines. Why is staff capacity much closer to 100% than designed capacity?"
   ]
  },
  {
   "cell_type": "markdown",
   "metadata": {
    "tags": [
     "include"
    ]
   },
   "source": [
    "*Replace this text with your response!*"
   ]
  },
  {
   "cell_type": "markdown",
   "metadata": {
    "tags": [
     "ignore"
    ]
   },
   "source": [
    "#### Interactive Widget"
   ]
  },
  {
   "cell_type": "markdown",
   "metadata": {
    "tags": [
     "ignore"
    ]
   },
   "source": [
    "We have created an interactive widget for you in this section. In this example, you will be able to scroll through all of the prisons in California (numbered from 0 to 39, and you will see how the designed capacity versus population has changed over time.\n",
    "<font color = #d14d0f>**Run the following cell to load the widget!**</font>"
   ]
  },
  {
   "cell_type": "code",
   "execution_count": null,
   "metadata": {
    "tags": [
     "ignore"
    ]
   },
   "outputs": [],
   "source": [
    "%run -i scripts.py\n",
    "widgets.VBox([widgets.VBox([inp]), out])"
   ]
  },
  {
   "cell_type": "markdown",
   "metadata": {
    "tags": [
     "include"
    ]
   },
   "source": [
    "<font color = #d14d0f>**QUESTION 10**:</font> Select any institution from the widget and analyze how that institution's designed capacity changed over time using the three highlighted points. Predict how the design capacity would compare with the staff capacity of that specific institution."
   ]
  },
  {
   "cell_type": "markdown",
   "metadata": {
    "tags": [
     "include"
    ]
   },
   "source": [
    "*Replace this text with your response!*"
   ]
  },
  {
   "cell_type": "markdown",
   "metadata": {
    "tags": [
     "ignore"
    ]
   },
   "source": [
    "### **Gender Division** <a id='subsection4'></a>\n",
    "\n",
    "**Context:** The system in place reinforces the idea that the average inmate holds certain characteristics. Since we have limited data sets we cannot investigate many aspects of this claim. However, in order to get a better understanding of the population that the prison industrial complex was made to hold, we will investigate a few variables such as gender divisions, design capacity, and staff capacity. \n",
    "\n",
    "Let's begin by looking at all the **unique** institutions on our dataset. To do this, we will use the `group()` function once again. The counts of the table below represent the number of months for which we have data given an institution. The maximum counts that any of the institutions *should* have is 276."
   ]
  },
  {
   "cell_type": "code",
   "execution_count": null,
   "metadata": {},
   "outputs": [],
   "source": [
    "prisons_updated.group(\"institution_name\").show()"
   ]
  },
  {
   "cell_type": "markdown",
   "metadata": {
    "tags": [
     "ignore"
    ]
   },
   "source": [
    "Since the data is made up of both male and female prisons, we will have to sort these prisons into separate groups before we can analyze them separately. However, we cannot ascertain whether a given institution is male or female-only given just the name. We had to double check whether an institution was male or female using sources outside of this notebook. \n",
    "\n",
    "One of the institutions that we found to be particularly interesting when looking at outside information was **VSP (VALLEY SP)**.\n",
    "\n",
    "The California Department of Corrections and Rehabilitation began converting Valley State Prison into a facility for low-risk male inmates in October 2012, and it was completed by January 2013. Click [HERE](https://web.archive.org/web/20120111104018/http://cdcrtoday.blogspot.com/2011/12/cdcr-announces-plan-to-convert-female.html) or [HERE](https://www.cdcr.ca.gov/Facilities_Locator/VSP.html) to learn more. \n",
    "\n",
    "From these links you will learn that this conversion came as a result of realignment policies. We can noted earlier that the monthly count for this institution was above 276, which could indicate monthly counts for male and female inmates, leading to a double count. Though we addressed this issue before we began working with the data at the beginning of the notebook, running these sanity checks is important in order to not obtain misleading results."
   ]
  },
  {
   "cell_type": "markdown",
   "metadata": {
    "tags": [
     "ignore"
    ]
   },
   "source": [
    "#### Unique Female Prisons"
   ]
  },
  {
   "cell_type": "markdown",
   "metadata": {
    "tags": [
     "ignore"
    ]
   },
   "source": [
    "In this section, we will organize the data corresponding to female institutions. In the cell below, we look only at the prisons which we know are strictly female. The following code creates a list or array of all the institutions we know to be strictly female.\n",
    "\n",
    "Note that our now separated \"Valley SP\" institution is included."
   ]
  },
  {
   "cell_type": "code",
   "execution_count": null,
   "metadata": {},
   "outputs": [],
   "source": [
    "female_institutions = make_array(\"CCWF (CENTRAL CA WOMEN'S FAC)\", 'CIW (CA INSTITUTION FOR WOMEN)',\n",
    "       'CRC (CAL REHAB CTR, WOMEN)', 'FOL (FOLSOM SP) (FEMALE)',\n",
    "       'FRCC (FRCCC BAKERSFIELD)', \"NCWF (NO CAL WOMEN'S FACIL)\", \"VALLEY SP (FEMALE)\")"
   ]
  },
  {
   "cell_type": "markdown",
   "metadata": {
    "tags": [
     "ignore"
    ]
   },
   "source": [
    "**Filtering:** Now that we have a list of only the female serving institutions, we will create a new table in which only these select institutions are included. To do so, we will use a new table function for which you are not responsible. Take a look below!"
   ]
  },
  {
   "cell_type": "code",
   "execution_count": null,
   "metadata": {},
   "outputs": [],
   "source": [
    "# Keep only the institutions in our list\n",
    "female_data = prisons_updated.where(\"institution_name\", are.contained_in(female_institutions))\n",
    "female_data.show(3)"
   ]
  },
  {
   "cell_type": "markdown",
   "metadata": {
    "tags": [
     "ignore"
    ]
   },
   "source": [
    "Now we will group by institution to learn about the number of times a given institution appears in our data set. Again this should be *at most* 276."
   ]
  },
  {
   "cell_type": "code",
   "execution_count": null,
   "metadata": {},
   "outputs": [],
   "source": [
    "female_prisons = female_data.group(\"institution_name\")\n",
    "female_prisons"
   ]
  },
  {
   "cell_type": "markdown",
   "metadata": {
    "tags": [
     "ignore"
    ]
   },
   "source": [
    "#### Design Capacity Versus Staff Capacity for Female Institutions"
   ]
  },
  {
   "cell_type": "markdown",
   "metadata": {
    "tags": [
     "ignore"
    ]
   },
   "source": [
    "Similar to the last sections, we will use the `select()` function to select necessary data in order to calculate the design versus staff capacities using our new `female_data` table."
   ]
  },
  {
   "cell_type": "code",
   "execution_count": null,
   "metadata": {},
   "outputs": [],
   "source": [
    "fem_year_pop_capacities = female_data.select(\"year\", \"total_population\", \"designed_capacity\", \"staffed_capacity\")\n",
    "fem_year_pop_capacities.show(3)"
   ]
  },
  {
   "cell_type": "markdown",
   "metadata": {
    "tags": [
     "ignore"
    ]
   },
   "source": [
    "We want to combine all the values within the same year across all institutions, so we will use the `group()` function and sum."
   ]
  },
  {
   "cell_type": "code",
   "execution_count": null,
   "metadata": {},
   "outputs": [],
   "source": [
    "fem_year_groups = fem_year_pop_capacities.group(\"year\", sum)\n",
    "fem_year_groups.show(3)"
   ]
  },
  {
   "cell_type": "markdown",
   "metadata": {
    "tags": [
     "ignore"
    ]
   },
   "source": [
    "Using the same techniques as in previous examples, we will calculate the designed capacity and staff capacity percentages."
   ]
  },
  {
   "cell_type": "code",
   "execution_count": null,
   "metadata": {},
   "outputs": [],
   "source": [
    "# Create a new variable with all the total population values\n",
    "fem_total_population = fem_year_groups.column(\"total_population sum\") \n",
    "\n",
    "# Calculate designed capacity percentages\n",
    "fem_design_capacity = fem_year_groups.column(\"designed_capacity sum\")\n",
    "fem_design_percentage = (fem_total_population / fem_design_capacity) *100\n",
    "\n",
    "# Calculate staff capacity percentages\n",
    "fem_staff_capacity = fem_year_groups.column(\"staffed_capacity sum\")\n",
    "fem_staff_percentage =(fem_total_population / fem_staff_capacity)*100"
   ]
  },
  {
   "cell_type": "markdown",
   "metadata": {
    "tags": [
     "ignore"
    ]
   },
   "source": [
    "In order to compare these two values with each other as we did before, we will want to add the percentages to a table. We could either create a new table, or add the percentages to our existing table and select only the necessary columns. Neither approach is more correct, but for readability's sake, we will create a new table below."
   ]
  },
  {
   "cell_type": "code",
   "execution_count": null,
   "metadata": {},
   "outputs": [],
   "source": [
    "fem_plot_table = Table().with_columns(\n",
    "    \"year\", np.arange(1996, 2018+1),\n",
    "    \"Design Percent Occupied\", fem_design_percentage,\n",
    "    \"Staff Percent Occupied\", fem_staff_percentage)\n",
    "fem_plot_table.show(3)"
   ]
  },
  {
   "cell_type": "markdown",
   "metadata": {
    "tags": [
     "ignore"
    ]
   },
   "source": [
    "To plot both the Designed Percentage and the Staff Percentage, we will use the `plot()` function."
   ]
  },
  {
   "cell_type": "code",
   "execution_count": null,
   "metadata": {
    "tags": [
     "ignore"
    ]
   },
   "outputs": [],
   "source": [
    "fem_plot_table.plot(\"year\")\n",
    "\n",
    "plt.xlabel(\"Year\")\n",
    "plt.ylabel(\"Percent Occupied\")\n",
    "plt.title(\"Designed Capacity versus Staff Capacity\");"
   ]
  },
  {
   "cell_type": "markdown",
   "metadata": {
    "tags": [
     "ignore"
    ]
   },
   "source": [
    "#### Unique Male Prisons"
   ]
  },
  {
   "cell_type": "markdown",
   "metadata": {
    "tags": [
     "ignore"
    ]
   },
   "source": [
    "Similar to our process in selecting only the female serving institutions, we will now repeat our analysis for male serving institutions. Another way to think about the filtering process is that we are excluding rows with female institutions.\n",
    "\n",
    "Notice how instead of using a function called `are.contained_in()` we are using a function called `are.not_contained_in()`. In this way we skip the step where we make a list/array of only male serving prisons."
   ]
  },
  {
   "cell_type": "code",
   "execution_count": null,
   "metadata": {},
   "outputs": [],
   "source": [
    "male_data = prisons_updated.where(\"institution_name\", are.not_contained_in(female_institutions))\n",
    "male_data.show(3)"
   ]
  },
  {
   "cell_type": "markdown",
   "metadata": {
    "tags": [
     "ignore"
    ]
   },
   "source": [
    "#### Design Capacity Versus Staff Capacity for Male Institutions"
   ]
  },
  {
   "cell_type": "markdown",
   "metadata": {
    "tags": [
     "ignore"
    ]
   },
   "source": [
    "We want to analyze the designed and staff capacities over time, so we will once again use the `select()` function to get relevant data and group by year."
   ]
  },
  {
   "cell_type": "code",
   "execution_count": null,
   "metadata": {},
   "outputs": [],
   "source": [
    "male_grouped_year = male_data.select(\"year\", \"total_population\", \"designed_capacity\", \"staffed_capacity\").group('year', sum)\n",
    "male_grouped_year.show(3)"
   ]
  },
  {
   "cell_type": "markdown",
   "metadata": {
    "tags": [
     "ignore"
    ]
   },
   "source": [
    "Let's repeat the same process as before, but with our male only data. If you would like to challenge yourself, try to recreate this process yourself! Feel free to create a new code cell below.\n",
    "\n",
    "Otherwise, run the cell below."
   ]
  },
  {
   "cell_type": "code",
   "execution_count": null,
   "metadata": {},
   "outputs": [],
   "source": [
    "# Save total male population as new variable\n",
    "male_total_population = male_grouped_year.column(\"total_population sum\")\n",
    "\n",
    "# Calculate design capacity percentage\n",
    "male_design_capacity =  male_grouped_year.column(\"designed_capacity sum\")\n",
    "male_design_percentage = (male_total_population / male_design_capacity)* 100\n",
    "\n",
    "# Calculate staff capacity percentage\n",
    "male_staff_capacity =  male_grouped_year.column(\"staffed_capacity sum\")\n",
    "male_staff_percentage = (male_total_population / male_staff_capacity) *100"
   ]
  },
  {
   "cell_type": "markdown",
   "metadata": {
    "tags": [
     "ignore"
    ]
   },
   "source": [
    "Just as in the female institution example, now we are adding both of these percentages to a new table."
   ]
  },
  {
   "cell_type": "code",
   "execution_count": null,
   "metadata": {},
   "outputs": [],
   "source": [
    "male_plot_table = Table().with_columns(\n",
    "    \"year\", np.arange(1996, 2018+1),\n",
    "    \"Design Percent Occupied\", male_design_percentage,\n",
    "    \"Staff Percent Occupied\", male_staff_percentage)\n",
    "male_plot_table.show(3)"
   ]
  },
  {
   "cell_type": "markdown",
   "metadata": {
    "tags": [
     "ignore"
    ]
   },
   "source": [
    "Now let's plot it! You're starting to get the hang of this right?"
   ]
  },
  {
   "cell_type": "code",
   "execution_count": null,
   "metadata": {},
   "outputs": [],
   "source": [
    "male_plot_table.plot(\"year\")\n",
    "\n",
    "plt.xlabel(\"Year\")\n",
    "plt.ylabel(\"Percent Occupied\")\n",
    "plt.title(\"Designed Capacity versus Staff Capacity\");"
   ]
  },
  {
   "cell_type": "markdown",
   "metadata": {
    "tags": [
     "ignore"
    ]
   },
   "source": [
    "#### Female vs Male Prisons: Designed and Staffed Capacities"
   ]
  },
  {
   "cell_type": "markdown",
   "metadata": {
    "tags": [
     "ignore"
    ]
   },
   "source": [
    "Although we could compare the two plots side by side to contrast male and female institutions, it would be better to look at them on the same graph. We will set up the table to plot them together. Here are the two tables we used to draw the plots above."
   ]
  },
  {
   "cell_type": "code",
   "execution_count": null,
   "metadata": {},
   "outputs": [],
   "source": [
    "fem_plot_table.show(3)"
   ]
  },
  {
   "cell_type": "code",
   "execution_count": null,
   "metadata": {},
   "outputs": [],
   "source": [
    "male_plot_table.show(3)"
   ]
  },
  {
   "cell_type": "markdown",
   "metadata": {
    "tags": [
     "ignore"
    ]
   },
   "source": [
    "Before we merge the two tables, we will want to differentiate between the `Design Percent Occupied` column in the female table versus in the male table. Same with the staff percentage column. To do this, we will relabel the column names. The function that will relabel to the column names is called `relabel()`. The function takes in two inputs: the old column name and a new column name."
   ]
  },
  {
   "cell_type": "code",
   "execution_count": null,
   "metadata": {},
   "outputs": [],
   "source": [
    "male_design_relabeled = male_plot_table.relabeled(\"Design Percent Occupied\", \"Male Designed Percentage\")\n",
    "male_relabeled = male_design_relabeled.relabeled(\"Staff Percent Occupied\", \"Male Staffed Percentage\")\n",
    "\n",
    "male_relabeled.show(3)"
   ]
  },
  {
   "cell_type": "code",
   "execution_count": null,
   "metadata": {},
   "outputs": [],
   "source": [
    "fem_design_relabeled = fem_plot_table.relabeled(\"Design Percent Occupied\", \"Female Designed Percentage\")\n",
    "fem_relabeled = fem_design_relabeled.relabeled(\"Staff Percent Occupied\", \"Female Staffed Percentage\")\n",
    "\n",
    "fem_relabeled.show(3)"
   ]
  },
  {
   "cell_type": "markdown",
   "metadata": {
    "tags": [
     "ignore"
    ]
   },
   "source": [
    "Now that we have distinct design and staff capacities for male and female groups, we can match the values by year. They contain information over the same years. To combine tables, we use a function called `join()`. The format for the function is:\n",
    "- *data_table_one*`.join(` *same_column*, *data_table_two*`)` where same_column is the name of the column that appears in both tables."
   ]
  },
  {
   "cell_type": "code",
   "execution_count": null,
   "metadata": {},
   "outputs": [],
   "source": [
    "male_and_female_table = male_relabeled.join(\"year\", fem_relabeled)\n",
    "male_and_female_table.show(3)"
   ]
  },
  {
   "cell_type": "markdown",
   "metadata": {
    "tags": [
     "ignore"
    ]
   },
   "source": [
    "Amazing! Now we can begin to do some comparative analysis on the two types of institutions. In the cells below we will generate some graphs to compare designed capacity between male and female prisons as well as staff capacity between the two."
   ]
  },
  {
   "cell_type": "markdown",
   "metadata": {
    "tags": [
     "ignore"
    ]
   },
   "source": [
    "#### Designed Capacity: Male vs Female"
   ]
  },
  {
   "cell_type": "code",
   "execution_count": null,
   "metadata": {
    "tags": [
     "ignore"
    ]
   },
   "outputs": [],
   "source": [
    "# Select only the design capacity columns from our previous table\n",
    "select_design = male_and_female_table.select(\"year\", \"Male Designed Percentage\", \"Female Designed Percentage\")\n",
    "\n",
    "select_design.plot(\"year\")\n",
    "\n",
    "plt.xlabel(\"Year\")\n",
    "plt.ylabel(\"Percent Occupied\")\n",
    "plt.title(\"Male versus Female Designed Capacity\");"
   ]
  },
  {
   "cell_type": "markdown",
   "metadata": {
    "tags": [
     "ignore"
    ]
   },
   "source": [
    "#### Staffed Capacity: Male vs Female"
   ]
  },
  {
   "cell_type": "code",
   "execution_count": null,
   "metadata": {
    "scrolled": true,
    "tags": [
     "ignore"
    ]
   },
   "outputs": [],
   "source": [
    "# Select only the staff capacity related columns from our table\n",
    "select_staff = male_and_female_table.select(\"year\", \"Male Staffed Percentage\", \"Female Staffed Percentage\")\n",
    "\n",
    "select_staff.plot(\"year\")\n",
    "\n",
    "plt.xlabel(\"Year\")\n",
    "plt.ylabel(\"Percent Occupied\")\n",
    "plt.title(\"Male versus Female Staffed Capacity\");"
   ]
  },
  {
   "cell_type": "markdown",
   "metadata": {
    "tags": [
     "ignore"
    ]
   },
   "source": [
    "### Male Prisons vs Female Prisons in both Staff and Designed Capacity\n",
    "Perhaps we'd like to view the differences in both staff and designed capacity between male and female prisons in the same graph. We do this in the cell below. Notice that the staff capacity graph seems to compress and the differences between the male and female prisons in staff capacity don't seem as great anymore. This has to do with the scale of our new graph."
   ]
  },
  {
   "cell_type": "code",
   "execution_count": null,
   "metadata": {
    "tags": [
     "ignore"
    ]
   },
   "outputs": [],
   "source": [
    "male_and_female_table.plot(\"year\")\n",
    "\n",
    "plt.xlabel(\"Year\")\n",
    "plt.ylabel(\"Percent Occupied\")\n",
    "plt.title(\"Male Prisons versus Female Prisons\");"
   ]
  },
  {
   "cell_type": "markdown",
   "metadata": {
    "tags": [
     "ignore"
    ]
   },
   "source": [
    "How does the combination of male and female institutions compare with the institutions overall (not separated between male and female)? To answer this question, let's look back towards the beginning of this notebook where we defined the table called `compare_table_design_and_staff` that compared designed and staff percentages by year that included both male and female institutions."
   ]
  },
  {
   "cell_type": "code",
   "execution_count": null,
   "metadata": {},
   "outputs": [],
   "source": [
    "compare_table_design_and_staff.show(3)"
   ]
  },
  {
   "cell_type": "markdown",
   "metadata": {
    "tags": [
     "ignore"
    ]
   },
   "source": [
    "We want to combine the total percentages table above with the table that contains the percentages for male and female prisons separately. To combine the two tables, we will use the `join()` function again."
   ]
  },
  {
   "cell_type": "code",
   "execution_count": null,
   "metadata": {},
   "outputs": [],
   "source": [
    "all_joined = compare_table_design_and_staff.join(\"year\", male_and_female_table)\n",
    "all_joined.show(3)"
   ]
  },
  {
   "cell_type": "markdown",
   "metadata": {
    "tags": [
     "ignore"
    ]
   },
   "source": [
    "In the following cell, we will select only the columns having to do with designed capacity percentages and plot them against each other. In the generated plot you should see both a total designed capacity percentage and both male and female designed capacity percentages."
   ]
  },
  {
   "cell_type": "code",
   "execution_count": null,
   "metadata": {
    "tags": [
     "ignore"
    ]
   },
   "outputs": [],
   "source": [
    "design_all = all_joined.select(\"year\", \"Design Percentage\", \"Male Designed Percentage\", \"Female Designed Percentage\")\n",
    "design_all.plot(\"year\")\n",
    "\n",
    "plt.xlabel(\"Year\")\n",
    "plt.ylabel(\"Percent Occupied\")\n",
    "plt.title(\"Male Prisons versus Female Prisons Designed Capacity\");"
   ]
  },
  {
   "cell_type": "markdown",
   "metadata": {
    "tags": [
     "ignore"
    ]
   },
   "source": [
    "Now we will repeat this process but for staff capacity percentages:"
   ]
  },
  {
   "cell_type": "code",
   "execution_count": null,
   "metadata": {
    "tags": [
     "ignore"
    ]
   },
   "outputs": [],
   "source": [
    "staff_all = all_joined.select(\"year\", \"Staff Percentage\", \"Male Staffed Percentage\", \"Female Staffed Percentage\")\n",
    "staff_all.plot(\"year\")\n",
    "\n",
    "plt.xlabel(\"Year\")\n",
    "plt.ylabel(\"Percent Occupied\")\n",
    "plt.title(\"Male Prisons versus Female Prisons Staffed Capacity\");"
   ]
  },
  {
   "cell_type": "markdown",
   "metadata": {
    "tags": [
     "ignore"
    ]
   },
   "source": [
    "We're almost done! Now to view all this information on one graph."
   ]
  },
  {
   "cell_type": "code",
   "execution_count": null,
   "metadata": {
    "tags": [
     "include"
    ]
   },
   "outputs": [],
   "source": [
    "all_joined.plot(\"year\")\n",
    "\n",
    "plt.xlabel(\"Year\")\n",
    "plt.ylabel(\"Percent Occupied\")\n",
    "plt.title(\"Male Prisons versus Female Prisons\");"
   ]
  },
  {
   "cell_type": "markdown",
   "metadata": {
    "tags": [
     "include"
    ]
   },
   "source": [
    "<font color = #d14d0f>**QUESTION 11:**</font> \n",
    "Comment on the plot above. What are the differences between designed and staffed capacity? What are some patterns unique to female institutions? Why does the total population look almost identical to the male prisons percentages?"
   ]
  },
  {
   "cell_type": "markdown",
   "metadata": {
    "tags": [
     "include"
    ]
   },
   "source": [
    "*Replace this text with your response!*"
   ]
  },
  {
   "cell_type": "markdown",
   "metadata": {
    "tags": [
     "ignore"
    ]
   },
   "source": [
    "Thank you for taking the time to complete the first notebook! We hope you found it insightful. Lastly, run the cell below to output your responses as a pdf. There is no need to edit any of the code in the cell below, but make sure that you've run and completed your notebook!\n",
    "\n",
    "Run all your cells by clicking \"Cell\" > \"Run All\" and save by either hitting the little floppy disk icon in your toolbar or clicking \"File\" > \"Save and checkpoint\"!"
   ]
  },
  {
   "cell_type": "code",
   "execution_count": null,
   "metadata": {},
   "outputs": [],
   "source": [
    "Notebook.export(\"Lecture_1.ipynb\", filter_type=\"tags\")"
   ]
  },
  {
   "cell_type": "markdown",
   "metadata": {
    "tags": [
     "ignore"
    ]
   },
   "source": [
    "If clicking the link above doesn't work for you, don't worry! Simply right click and choose \"Save Link As...\" to save a copy of your pdf onto your computer."
   ]
  },
  {
   "cell_type": "markdown",
   "metadata": {
    "tags": [
     "ignore"
    ]
   },
   "source": [
    "---\n",
    "Notebook developed by: Ashley Quiterio, Shalini Kunapuli, Alma Pineda, and William McEachen\n",
    "\n",
    "Data Science Modules: http://data.berkeley.edu/education/modules"
   ]
  }
 ],
 "metadata": {
  "kernelspec": {
   "display_name": "Python 3",
   "language": "python",
   "name": "python3"
  },
  "language_info": {
   "codemirror_mode": {
    "name": "ipython",
    "version": 3
   },
   "file_extension": ".py",
   "mimetype": "text/x-python",
   "name": "python",
   "nbconvert_exporter": "python",
   "pygments_lexer": "ipython3",
   "version": "3.8.8"
  }
 },
 "nbformat": 4,
 "nbformat_minor": 2
}
